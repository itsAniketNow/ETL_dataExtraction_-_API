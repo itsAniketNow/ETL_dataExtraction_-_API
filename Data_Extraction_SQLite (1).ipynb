{
  "nbformat": 4,
  "nbformat_minor": 0,
  "metadata": {
    "colab": {
      "provenance": []
    },
    "kernelspec": {
      "name": "python3",
      "display_name": "Python 3"
    },
    "language_info": {
      "name": "python"
    }
  },
  "cells": [
    {
      "cell_type": "markdown",
      "source": [
        "## Importing Libraries.\n"
      ],
      "metadata": {
        "id": "He6EOiSXc2SR"
      }
    },
    {
      "cell_type": "code",
      "source": [
        "import requests\n",
        "import sqlite3\n",
        "import json\n",
        "import os"
      ],
      "metadata": {
        "id": "ofG0bMRgb3Mt"
      },
      "execution_count": 44,
      "outputs": []
    },
    {
      "cell_type": "markdown",
      "source": [
        "## Create the Api Key"
      ],
      "metadata": {
        "id": "vAiGKJDnnOT3"
      }
    },
    {
      "cell_type": "code",
      "source": [
        "# store the key in an Integration/Environment Variable\n",
        "API_KEY = os.environ.get(\"API_KEY\")"
      ],
      "metadata": {
        "id": "gmmIsTJenSE4"
      },
      "execution_count": 45,
      "outputs": []
    },
    {
      "cell_type": "markdown",
      "source": [
        "##Fetching Data (URL)"
      ],
      "metadata": {
        "id": "CYQDjcRLdCjk"
      }
    },
    {
      "cell_type": "code",
      "source": [
        "# function to fetch the data fro URL\n",
        "\n",
        "def fetch_data(url):\n",
        "  headers= {\"apikey\": f\"{API_KEY}\"}\n",
        "  response = requests.get(url,  headers= headers)\n",
        "  if response.status_code == 200:\n",
        "    return response.json()\n",
        "  else:\n",
        "    print(f\"Failed to fetch the data. Status code: {response.status_code}\")\n",
        "    return None"
      ],
      "metadata": {
        "id": "278SD_L-cGoJ"
      },
      "execution_count": 46,
      "outputs": []
    },
    {
      "cell_type": "markdown",
      "source": [
        "## SQLite Connection"
      ],
      "metadata": {
        "id": "QG1-2RosdH0x"
      }
    },
    {
      "cell_type": "code",
      "source": [
        "# Function to create SQLite table and insert data\n",
        "def store_data_in_sqlite(data):\n",
        "    conn = sqlite3.connect('dataExtraction.db')\n",
        "    cur = conn.cursor()\n",
        "\n",
        "    # Create a table\n",
        "    cur.execute('DROP TABLE IF EXISTS populationData')\n",
        "    cur.execute('CREATE TABLE IF NOT EXISTS populationData (id INTEGER PRIMARY KEY, state TEXT, year INTEGER, population INTEGER, slug TEXT)')\n",
        "\n",
        "    # Insert data into the table\n",
        "    for entry in data.get('data', []):\n",
        "        cur.execute('INSERT INTO populationData (state, year, population, slug) VALUES (?, ?, ?, ?)',\n",
        "                       (entry.get('State'), entry.get('Year'), entry.get('Population'), entry.get('Slug State')))\n",
        "\n",
        "    # Commit changes and close the connection\n",
        "    conn.commit()\n",
        "    conn.close()"
      ],
      "metadata": {
        "id": "37ioa5dcdO5d"
      },
      "execution_count": 47,
      "outputs": []
    },
    {
      "cell_type": "code",
      "execution_count": 48,
      "metadata": {
        "colab": {
          "base_uri": "https://localhost:8080/"
        },
        "id": "k7YBXONmbr4W",
        "outputId": "b2927d60-57fe-4ce9-e20d-1e750d3f9c70"
      },
      "outputs": [
        {
          "output_type": "stream",
          "name": "stdout",
          "text": [
            "Data successfully fetched and stored in SQLite database.\n"
          ]
        }
      ],
      "source": [
        "# URL to fetch data from\n",
        "api_url = \"https://datausa.io/api/data?drilldowns=State&measures=Population&year=latest\"\n",
        "\n",
        "# Fetch data from the URL\n",
        "api_data = fetch_data(api_url)\n",
        "\n",
        "if api_data:\n",
        "    # Store data in SQLite\n",
        "    store_data_in_sqlite(api_data)\n",
        "    print(\"Data successfully fetched and stored in SQLite database.\")\n",
        "else:\n",
        "    print(\"Failed to fetch data.\")\n"
      ]
    },
    {
      "cell_type": "markdown",
      "source": [
        "### Read Data"
      ],
      "metadata": {
        "id": "9sN-RlBYU7HE"
      }
    },
    {
      "cell_type": "code",
      "source": [
        "# Function to fetch and print data from the SQLite database\n",
        "def retrieve_and_print_data():\n",
        "    conn = sqlite3.connect('dataExtraction.db')\n",
        "    cur = conn.cursor()\n",
        "\n",
        "    # Example: Retrieve and print all data from the 'population_data' table\n",
        "    cur.execute('SELECT * FROM populationData')\n",
        "    data = cur.fetchall()\n",
        "\n",
        "\n",
        "    # Print each row on a new line\n",
        "    for row in data:\n",
        "        print(row)\n",
        "\n",
        "    # Close the connection\n",
        "    conn.close()\n",
        "\n",
        "# Call the function to retrieve and print data\n",
        "retrieve_and_print_data()"
      ],
      "metadata": {
        "colab": {
          "base_uri": "https://localhost:8080/"
        },
        "id": "DJHld7c-j-Ae",
        "outputId": "16faaa11-639b-4ef6-c564-9a0665caf619"
      },
      "execution_count": 49,
      "outputs": [
        {
          "output_type": "stream",
          "name": "stdout",
          "text": [
            "(1, 'Alabama', 2021, 4997675, 'alabama')\n",
            "(2, 'Alaska', 2021, 735951, 'alaska')\n",
            "(3, 'Arizona', 2021, 7079203, 'arizona')\n",
            "(4, 'Arkansas', 2021, 3006309, 'arkansas')\n",
            "(5, 'California', 2021, 39455353, 'california')\n",
            "(6, 'Colorado', 2021, 5723176, 'colorado')\n",
            "(7, 'Connecticut', 2021, 3605330, 'connecticut')\n",
            "(8, 'Delaware', 2021, 981892, 'delaware')\n",
            "(9, 'District of Columbia', 2021, 683154, 'district-of-columbia')\n",
            "(10, 'Florida', 2021, 21339762, 'florida')\n",
            "(11, 'Georgia', 2021, 10625615, 'georgia')\n",
            "(12, 'Hawaii', 2021, 1453498, 'hawaii')\n",
            "(13, 'Idaho', 2021, 1811617, 'idaho')\n",
            "(14, 'Illinois', 2021, 12821813, 'illinois')\n",
            "(15, 'Indiana', 2021, 6751340, 'indiana')\n",
            "(16, 'Iowa', 2021, 3179090, 'iowa')\n",
            "(17, 'Kansas', 2021, 2932099, 'kansas')\n",
            "(18, 'Kentucky', 2021, 4494141, 'kentucky')\n",
            "(19, 'Louisiana', 2021, 4657305, 'louisiana')\n",
            "(20, 'Maine', 2021, 1357046, 'maine')\n",
            "(21, 'Maryland', 2021, 6148545, 'maryland')\n",
            "(22, 'Massachusetts', 2021, 6991852, 'massachusetts')\n",
            "(23, 'Michigan', 2021, 10062512, 'michigan')\n",
            "(24, 'Minnesota', 2021, 5670472, 'minnesota')\n",
            "(25, 'Mississippi', 2021, 2967023, 'mississippi')\n",
            "(26, 'Missouri', 2021, 6141534, 'missouri')\n",
            "(27, 'Montana', 2021, 1077978, 'montana')\n",
            "(28, 'Nebraska', 2021, 1951480, 'nebraska')\n",
            "(29, 'Nevada', 2021, 3059238, 'nevada')\n",
            "(30, 'New Hampshire', 2021, 1372175, 'new-hampshire')\n",
            "(31, 'New Jersey', 2021, 9234024, 'new-jersey')\n",
            "(32, 'New Mexico', 2021, 2109366, 'new-mexico')\n",
            "(33, 'New York', 2021, 20114745, 'new-york')\n",
            "(34, 'North Carolina', 2021, 10367022, 'north-carolina')\n",
            "(35, 'North Dakota', 2021, 773344, 'north-dakota')\n",
            "(36, 'Ohio', 2021, 11769923, 'ohio')\n",
            "(37, 'Oklahoma', 2021, 3948136, 'oklahoma')\n",
            "(38, 'Oregon', 2021, 4207177, 'oregon')\n",
            "(39, 'Pennsylvania', 2021, 12970650, 'pennsylvania')\n",
            "(40, 'Rhode Island', 2021, 1091949, 'rhode-island')\n",
            "(41, 'South Carolina', 2021, 5078903, 'south-carolina')\n",
            "(42, 'South Dakota', 2021, 881785, 'south-dakota')\n",
            "(43, 'Tennessee', 2021, 6859497, 'tennessee')\n",
            "(44, 'Texas', 2021, 28862581, 'texas')\n",
            "(45, 'Utah', 2021, 3231370, 'utah')\n",
            "(46, 'Vermont', 2021, 641637, 'vermont')\n",
            "(47, 'Virginia', 2021, 8582479, 'virginia')\n",
            "(48, 'Washington', 2021, 7617364, 'washington')\n",
            "(49, 'West Virginia', 2021, 1801049, 'west-virginia')\n",
            "(50, 'Wisconsin', 2021, 5871661, 'wisconsin')\n",
            "(51, 'Wyoming', 2021, 576641, 'wyoming')\n",
            "(52, 'Puerto Rico', 2021, 3311274, 'puerto-rico')\n"
          ]
        }
      ]
    },
    {
      "cell_type": "markdown",
      "source": [
        "## CURD Operations."
      ],
      "metadata": {
        "id": "-r27Cs-u1Gkg"
      }
    },
    {
      "cell_type": "markdown",
      "source": [
        "### Update data"
      ],
      "metadata": {
        "id": "_o8xJdm8ebxm"
      }
    },
    {
      "cell_type": "code",
      "source": [
        "# Function to update data in the SQLite database\n",
        "def update_data(table_name, new_entry, row_id):\n",
        "    conn = sqlite3.connect('dataExtraction.db')\n",
        "    cur = conn.cursor()\n",
        "\n",
        "    # Update the population of a specific row in the specified table\n",
        "    # cur.execute(f'SELECT {table_name} FROM populationData UPDATE {table_name} SET population = ? WHERE id = ?', (new_entry, row_id))\n",
        "    cur.execute(f'UPDATE {table_name} SET population = ? WHERE id = ?', (new_entry, row_id))\n",
        "\n",
        "    # Commit changes and close the connection\n",
        "    conn.commit()\n",
        "    conn.close()\n",
        "\n",
        "\n",
        "# Update data in the Population table\n",
        "update_data('populationData', 999999, 1)\n",
        "\n",
        "# Retrieve and print updated Population data\n",
        "print(\"\\nUpdated Poopulation Data:\")\n",
        "retrieve_and_print_data()"
      ],
      "metadata": {
        "colab": {
          "base_uri": "https://localhost:8080/"
        },
        "id": "_O3SpYTQUmF5",
        "outputId": "2fe27456-333e-4b6f-ff14-918f498d6c9a"
      },
      "execution_count": 50,
      "outputs": [
        {
          "output_type": "stream",
          "name": "stdout",
          "text": [
            "\n",
            "Updated Poopulation Data:\n",
            "(1, 'Alabama', 2021, 999999, 'alabama')\n",
            "(2, 'Alaska', 2021, 735951, 'alaska')\n",
            "(3, 'Arizona', 2021, 7079203, 'arizona')\n",
            "(4, 'Arkansas', 2021, 3006309, 'arkansas')\n",
            "(5, 'California', 2021, 39455353, 'california')\n",
            "(6, 'Colorado', 2021, 5723176, 'colorado')\n",
            "(7, 'Connecticut', 2021, 3605330, 'connecticut')\n",
            "(8, 'Delaware', 2021, 981892, 'delaware')\n",
            "(9, 'District of Columbia', 2021, 683154, 'district-of-columbia')\n",
            "(10, 'Florida', 2021, 21339762, 'florida')\n",
            "(11, 'Georgia', 2021, 10625615, 'georgia')\n",
            "(12, 'Hawaii', 2021, 1453498, 'hawaii')\n",
            "(13, 'Idaho', 2021, 1811617, 'idaho')\n",
            "(14, 'Illinois', 2021, 12821813, 'illinois')\n",
            "(15, 'Indiana', 2021, 6751340, 'indiana')\n",
            "(16, 'Iowa', 2021, 3179090, 'iowa')\n",
            "(17, 'Kansas', 2021, 2932099, 'kansas')\n",
            "(18, 'Kentucky', 2021, 4494141, 'kentucky')\n",
            "(19, 'Louisiana', 2021, 4657305, 'louisiana')\n",
            "(20, 'Maine', 2021, 1357046, 'maine')\n",
            "(21, 'Maryland', 2021, 6148545, 'maryland')\n",
            "(22, 'Massachusetts', 2021, 6991852, 'massachusetts')\n",
            "(23, 'Michigan', 2021, 10062512, 'michigan')\n",
            "(24, 'Minnesota', 2021, 5670472, 'minnesota')\n",
            "(25, 'Mississippi', 2021, 2967023, 'mississippi')\n",
            "(26, 'Missouri', 2021, 6141534, 'missouri')\n",
            "(27, 'Montana', 2021, 1077978, 'montana')\n",
            "(28, 'Nebraska', 2021, 1951480, 'nebraska')\n",
            "(29, 'Nevada', 2021, 3059238, 'nevada')\n",
            "(30, 'New Hampshire', 2021, 1372175, 'new-hampshire')\n",
            "(31, 'New Jersey', 2021, 9234024, 'new-jersey')\n",
            "(32, 'New Mexico', 2021, 2109366, 'new-mexico')\n",
            "(33, 'New York', 2021, 20114745, 'new-york')\n",
            "(34, 'North Carolina', 2021, 10367022, 'north-carolina')\n",
            "(35, 'North Dakota', 2021, 773344, 'north-dakota')\n",
            "(36, 'Ohio', 2021, 11769923, 'ohio')\n",
            "(37, 'Oklahoma', 2021, 3948136, 'oklahoma')\n",
            "(38, 'Oregon', 2021, 4207177, 'oregon')\n",
            "(39, 'Pennsylvania', 2021, 12970650, 'pennsylvania')\n",
            "(40, 'Rhode Island', 2021, 1091949, 'rhode-island')\n",
            "(41, 'South Carolina', 2021, 5078903, 'south-carolina')\n",
            "(42, 'South Dakota', 2021, 881785, 'south-dakota')\n",
            "(43, 'Tennessee', 2021, 6859497, 'tennessee')\n",
            "(44, 'Texas', 2021, 28862581, 'texas')\n",
            "(45, 'Utah', 2021, 3231370, 'utah')\n",
            "(46, 'Vermont', 2021, 641637, 'vermont')\n",
            "(47, 'Virginia', 2021, 8582479, 'virginia')\n",
            "(48, 'Washington', 2021, 7617364, 'washington')\n",
            "(49, 'West Virginia', 2021, 1801049, 'west-virginia')\n",
            "(50, 'Wisconsin', 2021, 5871661, 'wisconsin')\n",
            "(51, 'Wyoming', 2021, 576641, 'wyoming')\n",
            "(52, 'Puerto Rico', 2021, 3311274, 'puerto-rico')\n"
          ]
        }
      ]
    },
    {
      "cell_type": "markdown",
      "source": [
        "In above output population has change to '9999999' for row '1'"
      ],
      "metadata": {
        "id": "GLqEiJo0eqrC"
      }
    },
    {
      "cell_type": "markdown",
      "source": [
        "### Delete Data"
      ],
      "metadata": {
        "id": "HsxDZwKrUs5G"
      }
    },
    {
      "cell_type": "code",
      "source": [
        "# Function to delete a row from the SQLite database\n",
        "def delete_data(table_name, row_id):\n",
        "    conn = sqlite3.connect('dataExtraction.db')\n",
        "    cur = conn.cursor()\n",
        "\n",
        "    # Delete a specific row from the specified table\n",
        "    cur.execute(f'DELETE FROM {table_name} WHERE id = ?', (row_id,))\n",
        "\n",
        "    # Commit changes and close the connection\n",
        "    conn.commit()\n",
        "    conn.close()\n",
        "\n",
        "\n",
        "# Delete a row in the Population table\n",
        "delete_data('populationData', 2)\n",
        "\n",
        "# Retrieve and print updated Population data after deletion\n",
        "print(\"\\nPoopulation Data After Deletion:\")\n",
        "retrieve_and_print_data()"
      ],
      "metadata": {
        "colab": {
          "base_uri": "https://localhost:8080/"
        },
        "id": "ciUm0cfOUtNc",
        "outputId": "9fedb24b-a931-4b67-f1e9-9d5d31cb1bf5"
      },
      "execution_count": 51,
      "outputs": [
        {
          "output_type": "stream",
          "name": "stdout",
          "text": [
            "\n",
            "Poopulation Data After Deletion:\n",
            "(1, 'Alabama', 2021, 999999, 'alabama')\n",
            "(3, 'Arizona', 2021, 7079203, 'arizona')\n",
            "(4, 'Arkansas', 2021, 3006309, 'arkansas')\n",
            "(5, 'California', 2021, 39455353, 'california')\n",
            "(6, 'Colorado', 2021, 5723176, 'colorado')\n",
            "(7, 'Connecticut', 2021, 3605330, 'connecticut')\n",
            "(8, 'Delaware', 2021, 981892, 'delaware')\n",
            "(9, 'District of Columbia', 2021, 683154, 'district-of-columbia')\n",
            "(10, 'Florida', 2021, 21339762, 'florida')\n",
            "(11, 'Georgia', 2021, 10625615, 'georgia')\n",
            "(12, 'Hawaii', 2021, 1453498, 'hawaii')\n",
            "(13, 'Idaho', 2021, 1811617, 'idaho')\n",
            "(14, 'Illinois', 2021, 12821813, 'illinois')\n",
            "(15, 'Indiana', 2021, 6751340, 'indiana')\n",
            "(16, 'Iowa', 2021, 3179090, 'iowa')\n",
            "(17, 'Kansas', 2021, 2932099, 'kansas')\n",
            "(18, 'Kentucky', 2021, 4494141, 'kentucky')\n",
            "(19, 'Louisiana', 2021, 4657305, 'louisiana')\n",
            "(20, 'Maine', 2021, 1357046, 'maine')\n",
            "(21, 'Maryland', 2021, 6148545, 'maryland')\n",
            "(22, 'Massachusetts', 2021, 6991852, 'massachusetts')\n",
            "(23, 'Michigan', 2021, 10062512, 'michigan')\n",
            "(24, 'Minnesota', 2021, 5670472, 'minnesota')\n",
            "(25, 'Mississippi', 2021, 2967023, 'mississippi')\n",
            "(26, 'Missouri', 2021, 6141534, 'missouri')\n",
            "(27, 'Montana', 2021, 1077978, 'montana')\n",
            "(28, 'Nebraska', 2021, 1951480, 'nebraska')\n",
            "(29, 'Nevada', 2021, 3059238, 'nevada')\n",
            "(30, 'New Hampshire', 2021, 1372175, 'new-hampshire')\n",
            "(31, 'New Jersey', 2021, 9234024, 'new-jersey')\n",
            "(32, 'New Mexico', 2021, 2109366, 'new-mexico')\n",
            "(33, 'New York', 2021, 20114745, 'new-york')\n",
            "(34, 'North Carolina', 2021, 10367022, 'north-carolina')\n",
            "(35, 'North Dakota', 2021, 773344, 'north-dakota')\n",
            "(36, 'Ohio', 2021, 11769923, 'ohio')\n",
            "(37, 'Oklahoma', 2021, 3948136, 'oklahoma')\n",
            "(38, 'Oregon', 2021, 4207177, 'oregon')\n",
            "(39, 'Pennsylvania', 2021, 12970650, 'pennsylvania')\n",
            "(40, 'Rhode Island', 2021, 1091949, 'rhode-island')\n",
            "(41, 'South Carolina', 2021, 5078903, 'south-carolina')\n",
            "(42, 'South Dakota', 2021, 881785, 'south-dakota')\n",
            "(43, 'Tennessee', 2021, 6859497, 'tennessee')\n",
            "(44, 'Texas', 2021, 28862581, 'texas')\n",
            "(45, 'Utah', 2021, 3231370, 'utah')\n",
            "(46, 'Vermont', 2021, 641637, 'vermont')\n",
            "(47, 'Virginia', 2021, 8582479, 'virginia')\n",
            "(48, 'Washington', 2021, 7617364, 'washington')\n",
            "(49, 'West Virginia', 2021, 1801049, 'west-virginia')\n",
            "(50, 'Wisconsin', 2021, 5871661, 'wisconsin')\n",
            "(51, 'Wyoming', 2021, 576641, 'wyoming')\n",
            "(52, 'Puerto Rico', 2021, 3311274, 'puerto-rico')\n"
          ]
        }
      ]
    },
    {
      "cell_type": "code",
      "source": [],
      "metadata": {
        "id": "e2tfIKZzWN39"
      },
      "execution_count": 51,
      "outputs": []
    }
  ]
}